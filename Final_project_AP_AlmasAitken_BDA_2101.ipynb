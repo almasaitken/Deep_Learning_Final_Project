{
  "nbformat": 4,
  "nbformat_minor": 0,
  "metadata": {
    "colab": {
      "provenance": []
    },
    "kernelspec": {
      "name": "python3",
      "display_name": "Python 3"
    },
    "language_info": {
      "name": "python"
    },
    "accelerator": "GPU",
    "gpuClass": "standard"
  },
  "cells": [
    {
      "cell_type": "markdown",
      "source": [
        "Importing the necessary libaries"
      ],
      "metadata": {
        "id": "CxuH3K8lfW9b"
      }
    },
    {
      "cell_type": "code",
      "execution_count": 116,
      "metadata": {
        "id": "EMzb61wJCxMH"
      },
      "outputs": [],
      "source": [
        "import numpy as np\n",
        "import pandas as pd\n",
        "import tensorflow as tf\n",
        "import keras"
      ]
    },
    {
      "cell_type": "code",
      "source": [
        "import string"
      ],
      "metadata": {
        "id": "LoU-BK5u28Nv"
      },
      "execution_count": 117,
      "outputs": []
    },
    {
      "cell_type": "code",
      "source": [
        "import matplotlib.pyplot as plt"
      ],
      "metadata": {
        "id": "GskHiBo7Soeg"
      },
      "execution_count": 118,
      "outputs": []
    },
    {
      "cell_type": "markdown",
      "source": [
        "Importing the dataset from keras"
      ],
      "metadata": {
        "id": "Q9oFc9pafdL0"
      }
    },
    {
      "cell_type": "code",
      "source": [
        "from keras.datasets import imdb"
      ],
      "metadata": {
        "id": "Bi4nWzto7kUp"
      },
      "execution_count": 119,
      "outputs": []
    },
    {
      "cell_type": "markdown",
      "source": [
        "Function to plot the training vs validation accuracy and loss for each trained model"
      ],
      "metadata": {
        "id": "zy1UeFyEfiQU"
      }
    },
    {
      "cell_type": "code",
      "source": [
        "def plot(history):\n",
        "  acc = history.history['accuracy']\n",
        "  val_acc = history.history['val_accuracy']\n",
        "  loss = history.history['loss']\n",
        "  val_loss = history.history['val_loss']\n",
        "\n",
        "  epochs = range(len(acc))\n",
        "\n",
        "  plt.title('Training and validation accuracy')\n",
        "  plt.plot(epochs, acc, color='blue', label='Train')\n",
        "  plt.plot(epochs, val_acc, color='orange', label='Val')\n",
        "  plt.xlabel('Epoch')\n",
        "  plt.ylabel('Accuracy')\n",
        "  plt.legend()\n",
        "\n",
        "  _ = plt.figure()\n",
        "  plt.title('Training and validation loss')\n",
        "  plt.plot(epochs, loss, color='blue', label='Train')\n",
        "  plt.plot(epochs, val_loss, color='orange', label='Val')\n",
        "  plt.xlabel('Epoch')\n",
        "  plt.ylabel('Loss')\n",
        "  plt.legend()"
      ],
      "metadata": {
        "id": "ombNoIMp2idg"
      },
      "execution_count": 120,
      "outputs": []
    },
    {
      "cell_type": "markdown",
      "source": [
        "Initializing the vocabulary size and the length of the review variables. \n",
        "Value of 1000 for vocabulary size means the first 997 most frequent words are considered only in each review."
      ],
      "metadata": {
        "id": "7Jz7lcqqfw2X"
      }
    },
    {
      "cell_type": "code",
      "source": [
        "VOCAB_SIZE=1000\n",
        "REVIEW_WORD_COUNT=300"
      ],
      "metadata": {
        "id": "iJXJLKWyRB5F"
      },
      "execution_count": 121,
      "outputs": []
    },
    {
      "cell_type": "markdown",
      "source": [
        "Loading and splitting the dataset. The number of unique and most frequent words is equal to VOCAB_SIZE. Index 0 is for padding, 1 is for start of review and 2 is for unknown word.  "
      ],
      "metadata": {
        "id": "4Ng15ozcgMEs"
      }
    },
    {
      "cell_type": "code",
      "source": [
        "(x_train_1k, y_train_1k),(x_test_1k, y_test_1k) = imdb.load_data(num_words=VOCAB_SIZE)"
      ],
      "metadata": {
        "id": "Mulg8G28DM3E"
      },
      "execution_count": 122,
      "outputs": []
    },
    {
      "cell_type": "markdown",
      "source": [
        "By default, 50% of reviews is for training set and 50% for test set."
      ],
      "metadata": {
        "id": "C8cPIlythBC5"
      }
    },
    {
      "cell_type": "code",
      "source": [
        "print(x_train_1k.shape)\n",
        "print(x_test_1k.shape)\n",
        "print(y_train_1k.shape)\n",
        "print(y_test_1k.shape)"
      ],
      "metadata": {
        "colab": {
          "base_uri": "https://localhost:8080/"
        },
        "id": "xMyD3b7GEOAE",
        "outputId": "7e10fac5-ca7c-4d7e-9475-10fdfc74b3de"
      },
      "execution_count": 123,
      "outputs": [
        {
          "output_type": "stream",
          "name": "stdout",
          "text": [
            "(25000,)\n",
            "(25000,)\n",
            "(25000,)\n",
            "(25000,)\n"
          ]
        }
      ]
    },
    {
      "cell_type": "markdown",
      "source": [
        "Observing the random review in the training set. The integer is corresponding to the frequency of this word in the reviews. Lower integer -> higher frequency and vice versa."
      ],
      "metadata": {
        "id": "VVkxonxEhIsO"
      }
    },
    {
      "cell_type": "code",
      "source": [
        "x_train_1k[12]"
      ],
      "metadata": {
        "colab": {
          "base_uri": "https://localhost:8080/"
        },
        "id": "RQ1WZ11yEQKR",
        "outputId": "74f9c5af-3d86-431e-c879-e1a089a1077c"
      },
      "execution_count": 124,
      "outputs": [
        {
          "output_type": "execute_result",
          "data": {
            "text/plain": [
              "[1,\n",
              " 13,\n",
              " 119,\n",
              " 954,\n",
              " 189,\n",
              " 2,\n",
              " 13,\n",
              " 92,\n",
              " 459,\n",
              " 48,\n",
              " 4,\n",
              " 116,\n",
              " 9,\n",
              " 2,\n",
              " 2,\n",
              " 42,\n",
              " 726,\n",
              " 4,\n",
              " 2,\n",
              " 168,\n",
              " 2,\n",
              " 13,\n",
              " 423,\n",
              " 14,\n",
              " 20,\n",
              " 549,\n",
              " 18,\n",
              " 4,\n",
              " 2,\n",
              " 547,\n",
              " 32,\n",
              " 4,\n",
              " 96,\n",
              " 39,\n",
              " 4,\n",
              " 454,\n",
              " 7,\n",
              " 4,\n",
              " 22,\n",
              " 8,\n",
              " 4,\n",
              " 55,\n",
              " 130,\n",
              " 168,\n",
              " 13,\n",
              " 92,\n",
              " 359,\n",
              " 6,\n",
              " 158,\n",
              " 2,\n",
              " 2,\n",
              " 42,\n",
              " 6,\n",
              " 2,\n",
              " 19,\n",
              " 194,\n",
              " 2,\n",
              " 2,\n",
              " 6,\n",
              " 114,\n",
              " 8,\n",
              " 72,\n",
              " 21,\n",
              " 465,\n",
              " 2,\n",
              " 304,\n",
              " 4,\n",
              " 51,\n",
              " 9,\n",
              " 14,\n",
              " 20,\n",
              " 44,\n",
              " 155,\n",
              " 8,\n",
              " 6,\n",
              " 226,\n",
              " 162,\n",
              " 616,\n",
              " 651,\n",
              " 51,\n",
              " 9,\n",
              " 14,\n",
              " 20,\n",
              " 44,\n",
              " 10,\n",
              " 10,\n",
              " 14,\n",
              " 218,\n",
              " 2,\n",
              " 629,\n",
              " 42,\n",
              " 2,\n",
              " 21,\n",
              " 48,\n",
              " 25,\n",
              " 28,\n",
              " 35,\n",
              " 534,\n",
              " 5,\n",
              " 6,\n",
              " 320,\n",
              " 8,\n",
              " 516,\n",
              " 5,\n",
              " 42,\n",
              " 25,\n",
              " 181,\n",
              " 8,\n",
              " 130,\n",
              " 56,\n",
              " 547,\n",
              " 2,\n",
              " 5,\n",
              " 2,\n",
              " 851,\n",
              " 14,\n",
              " 2]"
            ]
          },
          "metadata": {},
          "execution_count": 124
        }
      ]
    },
    {
      "cell_type": "markdown",
      "source": [
        "Observing its label. 0 is for negative and 1 is for positive."
      ],
      "metadata": {
        "id": "LNPu9vsPh_dv"
      }
    },
    {
      "cell_type": "code",
      "source": [
        "y_train_1k[12]"
      ],
      "metadata": {
        "colab": {
          "base_uri": "https://localhost:8080/"
        },
        "id": "wBzq7NKzh6e7",
        "outputId": "72b29480-ecf8-4ac7-9db5-74b4f78d71cf"
      },
      "execution_count": 198,
      "outputs": [
        {
          "output_type": "execute_result",
          "data": {
            "text/plain": [
              "0"
            ]
          },
          "metadata": {},
          "execution_count": 198
        }
      ]
    },
    {
      "cell_type": "markdown",
      "source": [
        "Applying padding to the train and test reviews. If review is less than REVIEW_WORD_COUNT, then padding is applied in the beginning. "
      ],
      "metadata": {
        "id": "ESDqm3K7heeD"
      }
    },
    {
      "cell_type": "code",
      "source": [
        "x_train_1k = tf.keras.utils.pad_sequences(x_train_1k, REVIEW_WORD_COUNT)\n",
        "x_test_1k = tf.keras.utils.pad_sequences(x_test_1k, REVIEW_WORD_COUNT)"
      ],
      "metadata": {
        "id": "KRDRsJ0ZETQ4"
      },
      "execution_count": 125,
      "outputs": []
    },
    {
      "cell_type": "markdown",
      "source": [
        "The reviews after the padding."
      ],
      "metadata": {
        "id": "0swYelR0hz8w"
      }
    },
    {
      "cell_type": "code",
      "source": [
        "x_train_1k[25]"
      ],
      "metadata": {
        "colab": {
          "base_uri": "https://localhost:8080/"
        },
        "id": "a-sZtcbFEa89",
        "outputId": "913a7668-9ea9-43fe-fe03-b646c5d665ca"
      },
      "execution_count": 126,
      "outputs": [
        {
          "output_type": "execute_result",
          "data": {
            "text/plain": [
              "array([  0,   0,   0,   0,   0,   0,   0,   0,   0,   0,   0,   0,   0,\n",
              "         0,   0,   0,   0,   0,   0,   0,   0,   0,   0,   0,   0,   0,\n",
              "         0,   0,   0,   0,   0,   0,   0,   0,   0,   0,   0,   0,   0,\n",
              "         0,   0,   0,   0,   0,   0,   0,   0,   0,   0,   0,   0,   0,\n",
              "         0,   0,   0,   0,   0,   0,   0,   0,   0,   0,   0,   0,   0,\n",
              "         0,   0,   0,   0,   0,   0,   0,   0,   0,   0,   0,   0,   0,\n",
              "         0,   0,   0,   0,   0,   0,   0,   0,   0,   0,   0,   0,   0,\n",
              "         0,   0,   0,   0,   0,   0,   0,   0,   0,   0,   0,   0,   0,\n",
              "         0,   0,   0,   0,   0,   0,   0,   0,   0,   0,   0,   0,   0,\n",
              "         0,   0,   0,   0,   0,   0,   0,   0,   0,   0,   0,   0,   0,\n",
              "         0,   0,   0,   0,   0,   0,   0,   0,   0,   0,   0,   0,   0,\n",
              "         0,   0,   0,   0,   0,   0,   0,   0,   0,   0,   0,   0,   0,\n",
              "         0,   0,   1,  14,   9,   6,  55, 641,   2, 212,  44,   6, 389,\n",
              "       223,  15,  47,   6, 492, 446,   2,  88,  29, 361,   8,   2,  33,\n",
              "        27,   2,   2,   2,   8, 193,  32,   2,   7,   2,   7,   4,  84,\n",
              "        11,   6, 392,   2,   7,   2,   2,   5,   2,   8,  79,   4, 692,\n",
              "         7,   6, 604,   7,   2, 498,   2,  39, 162, 782, 543,   2,  47,\n",
              "         6,   2, 799,  37, 271, 331,   2, 120,   2,   5,   9, 165,  35,\n",
              "         2, 656,   2,   7,   2,  39,   6,   2,  50,  26, 139,   7, 349,\n",
              "       800, 125,   4,   2,  11,  68,   2,  19,   2,   2,   5,   2, 399,\n",
              "       184,  76,   4, 172,  12,   9, 247, 254,   8, 401, 129, 330,  46,\n",
              "         7,   4,   2,  19,  14,  22,  21,  37,   2,  12,   9,  64,   6,\n",
              "        22,   8, 202,  25,   6, 171, 919,  33,   6, 606, 431,  93,  11,\n",
              "         2], dtype=int32)"
            ]
          },
          "metadata": {},
          "execution_count": 126
        }
      ]
    },
    {
      "cell_type": "markdown",
      "source": [
        "There is a get_word_index() function from the dataset library which returns the dictionary with the key as the word itself and the value as the frequency index of the word. We get that dictionary and add the padding, review start and unknown word tokens. 3 is added to each value since the latters are not in the returned dictionary."
      ],
      "metadata": {
        "id": "F3-ithrqiFrA"
      }
    },
    {
      "cell_type": "code",
      "source": [
        "word_to_index = imdb.get_word_index()\n",
        "word_to_index = { key: (value+3) for key, value in word_to_index.items()}\n",
        "word_to_index[\"<PAD>\"] = 0\n",
        "word_to_index[\"<START>\"] = 1\n",
        "word_to_index[\"<UNK>\"] = 2"
      ],
      "metadata": {
        "id": "QpQ7lmAlEcRW"
      },
      "execution_count": 127,
      "outputs": []
    },
    {
      "cell_type": "markdown",
      "source": [
        "Checking the frequency index of the word 'good'."
      ],
      "metadata": {
        "id": "5_TXRzjJkdoH"
      }
    },
    {
      "cell_type": "code",
      "source": [
        "word_to_index['good']"
      ],
      "metadata": {
        "colab": {
          "base_uri": "https://localhost:8080/"
        },
        "id": "NAhk4Ze-wkqt",
        "outputId": "94ed0005-0112-4551-d0ad-b1bfd1c457b1"
      },
      "execution_count": 128,
      "outputs": [
        {
          "output_type": "execute_result",
          "data": {
            "text/plain": [
              "52"
            ]
          },
          "metadata": {},
          "execution_count": 128
        }
      ]
    },
    {
      "cell_type": "markdown",
      "source": [
        "Creating a dictionary with reversed key and value."
      ],
      "metadata": {
        "id": "4zJt39kTkhDL"
      }
    },
    {
      "cell_type": "code",
      "source": [
        "index_to_word = { index : word for word, index in word_to_index.items() }"
      ],
      "metadata": {
        "id": "7TE8jHOwEgMH"
      },
      "execution_count": 130,
      "outputs": []
    },
    {
      "cell_type": "markdown",
      "source": [
        "Checking the correctness of the frequency."
      ],
      "metadata": {
        "id": "4wZPE7p5knua"
      }
    },
    {
      "cell_type": "code",
      "source": [
        "index_to_word[52]"
      ],
      "metadata": {
        "colab": {
          "base_uri": "https://localhost:8080/",
          "height": 37
        },
        "id": "ryjNW1MEEiQa",
        "outputId": "33b8abea-d247-48af-982a-63e96dad71a1"
      },
      "execution_count": 131,
      "outputs": [
        {
          "output_type": "execute_result",
          "data": {
            "text/plain": [
              "'good'"
            ],
            "application/vnd.google.colaboratory.intrinsic+json": {
              "type": "string"
            }
          },
          "metadata": {},
          "execution_count": 131
        }
      ]
    },
    {
      "cell_type": "markdown",
      "source": [
        "Printing the random review from the training set. "
      ],
      "metadata": {
        "id": "tVrhHt-ckuG4"
      }
    },
    {
      "cell_type": "code",
      "source": [
        "print(\" \".join(index_to_word[index] for index in x_train_1k[10]))"
      ],
      "metadata": {
        "colab": {
          "base_uri": "https://localhost:8080/"
        },
        "id": "p64-Nm-KElAs",
        "outputId": "bce37c93-d308-4b58-e05d-8b8d422ff5ba"
      },
      "execution_count": 132,
      "outputs": [
        {
          "output_type": "stream",
          "name": "stdout",
          "text": [
            "a short while in the <UNK> together they <UNK> upon a <UNK> place in the <UNK> that <UNK> an old <UNK> after <UNK> part of it they soon <UNK> its <UNK> <UNK> and <UNK> they may be able to use it to break through the <UNK> <UNK> br br black <UNK> is a very interesting <UNK> and i'm actually quite surprised that there aren't more films based on it as there's so much <UNK> for things to do with it it's <UNK> to say that <UNK> makes the best of it's <UNK> as despite it's <UNK> the film never actually feels <UNK> and <UNK> to <UNK> well throughout director <UNK> <UNK> <UNK> a great atmosphere for the film the fact that most of it takes place <UNK> the <UNK> <UNK> <UNK> <UNK> that the film feels very <UNK> and this <UNK> <UNK> the <UNK> idea of the <UNK> <UNK> to use <UNK> to break out of the <UNK> it's very easy to get behind them it's often said that the <UNK> is the thing that really <UNK> people and this film <UNK> that as the director <UNK> that we can never really be sure of exactly what is <UNK> the <UNK> and this <UNK> to <UNK> that <UNK> actually does <UNK> to be quite <UNK> the film is memorable for a lot of <UNK> <UNK> the <UNK> plot the characters are all very interesting in their own way and the fact that the book itself almost takes on its own character is very well done anyone <UNK> that the film won't <UNK> by the end won't be disappointed either as the ending both makes sense and <UNK> to be quite <UNK> overall <UNK> is a truly great horror film and one of the best of the <UNK> highly <UNK> viewing\n"
          ]
        }
      ]
    },
    {
      "cell_type": "markdown",
      "source": [
        "Creating, compiling and training the first model with LSTM layer for 1000 as VOCAB_SIZE."
      ],
      "metadata": {
        "id": "ZtEWXkp6lTIk"
      }
    },
    {
      "cell_type": "code",
      "source": [
        "model = tf.keras.Sequential([\n",
        "    tf.keras.layers.Embedding(VOCAB_SIZE, 32, input_length=REVIEW_WORD_COUNT),\n",
        "    tf.keras.layers.LSTM(32),\n",
        "    tf.keras.layers.Dense(1, activation=\"sigmoid\")\n",
        "])"
      ],
      "metadata": {
        "id": "CtOwUYaKFL7c"
      },
      "execution_count": 133,
      "outputs": []
    },
    {
      "cell_type": "code",
      "source": [
        "model.compile(loss='binary_crossentropy',optimizer='adam', metrics=['accuracy']) "
      ],
      "metadata": {
        "id": "fQN7eRGoFUfk"
      },
      "execution_count": 134,
      "outputs": []
    },
    {
      "cell_type": "code",
      "source": [
        "model.summary()"
      ],
      "metadata": {
        "colab": {
          "base_uri": "https://localhost:8080/"
        },
        "id": "y6XC4JmKFWQr",
        "outputId": "8c9116a5-c7a3-4e83-b091-f9ae32044646"
      },
      "execution_count": 135,
      "outputs": [
        {
          "output_type": "stream",
          "name": "stdout",
          "text": [
            "Model: \"sequential_21\"\n",
            "_________________________________________________________________\n",
            " Layer (type)                Output Shape              Param #   \n",
            "=================================================================\n",
            " embedding_21 (Embedding)    (None, 300, 32)           32000     \n",
            "                                                                 \n",
            " lstm_8 (LSTM)               (None, 32)                8320      \n",
            "                                                                 \n",
            " dense_22 (Dense)            (None, 1)                 33        \n",
            "                                                                 \n",
            "=================================================================\n",
            "Total params: 40,353\n",
            "Trainable params: 40,353\n",
            "Non-trainable params: 0\n",
            "_________________________________________________________________\n"
          ]
        }
      ]
    },
    {
      "cell_type": "code",
      "source": [
        "history_1k = model.fit(x_train_1k, y_train_1k, validation_split=0.2, epochs=10, batch_size=32)"
      ],
      "metadata": {
        "colab": {
          "base_uri": "https://localhost:8080/"
        },
        "id": "gp6exlLfFY0u",
        "outputId": "212f2934-1628-4b68-b066-6103dd88bfb6"
      },
      "execution_count": 136,
      "outputs": [
        {
          "output_type": "stream",
          "name": "stdout",
          "text": [
            "Epoch 1/10\n",
            "625/625 [==============================] - 23s 33ms/step - loss: 0.4650 - accuracy: 0.7778 - val_loss: 0.3747 - val_accuracy: 0.8432\n",
            "Epoch 2/10\n",
            "625/625 [==============================] - 10s 16ms/step - loss: 0.3471 - accuracy: 0.8541 - val_loss: 0.3409 - val_accuracy: 0.8540\n",
            "Epoch 3/10\n",
            "625/625 [==============================] - 8s 14ms/step - loss: 0.3279 - accuracy: 0.8633 - val_loss: 0.3424 - val_accuracy: 0.8502\n",
            "Epoch 4/10\n",
            "625/625 [==============================] - 9s 14ms/step - loss: 0.3123 - accuracy: 0.8680 - val_loss: 0.3353 - val_accuracy: 0.8538\n",
            "Epoch 5/10\n",
            "625/625 [==============================] - 8s 13ms/step - loss: 0.2976 - accuracy: 0.8758 - val_loss: 0.3589 - val_accuracy: 0.8420\n",
            "Epoch 6/10\n",
            "625/625 [==============================] - 7s 12ms/step - loss: 0.2887 - accuracy: 0.8777 - val_loss: 0.3647 - val_accuracy: 0.8556\n",
            "Epoch 7/10\n",
            "625/625 [==============================] - 8s 13ms/step - loss: 0.2831 - accuracy: 0.8809 - val_loss: 0.3415 - val_accuracy: 0.8522\n",
            "Epoch 8/10\n",
            "625/625 [==============================] - 8s 13ms/step - loss: 0.2718 - accuracy: 0.8871 - val_loss: 0.3590 - val_accuracy: 0.8488\n",
            "Epoch 9/10\n",
            "625/625 [==============================] - 8s 13ms/step - loss: 0.2724 - accuracy: 0.8839 - val_loss: 0.3673 - val_accuracy: 0.8530\n",
            "Epoch 10/10\n",
            "625/625 [==============================] - 8s 13ms/step - loss: 0.2715 - accuracy: 0.8846 - val_loss: 0.3736 - val_accuracy: 0.8444\n"
          ]
        }
      ]
    },
    {
      "cell_type": "code",
      "source": [
        "eval = model.evaluate(x_test_1k, y_test_1k)"
      ],
      "metadata": {
        "colab": {
          "base_uri": "https://localhost:8080/"
        },
        "id": "3Gwvp7GpGJgd",
        "outputId": "a9c7b7b5-f494-46ab-8770-37e54360d419"
      },
      "execution_count": 137,
      "outputs": [
        {
          "output_type": "stream",
          "name": "stdout",
          "text": [
            "782/782 [==============================] - 5s 6ms/step - loss: 0.3628 - accuracy: 0.8521\n"
          ]
        }
      ]
    },
    {
      "cell_type": "code",
      "source": [
        "plot(history_1k)"
      ],
      "metadata": {
        "colab": {
          "base_uri": "https://localhost:8080/",
          "height": 573
        },
        "id": "WXqKpYHrSvKe",
        "outputId": "18ccb7d3-b9eb-4576-cd25-3d271b4bb3de"
      },
      "execution_count": 138,
      "outputs": [
        {
          "output_type": "display_data",
          "data": {
            "text/plain": [
              "<Figure size 432x288 with 1 Axes>"
            ],
            "image/png": "[encoded data removed]"
          },
          "metadata": {
            "needs_background": "light"
          }
        },
        {
          "output_type": "display_data",
          "data": {
            "text/plain": [
              "<Figure size 432x288 with 1 Axes>"
            ],
            "image/png": "[encoded data removed]"
          },
          "metadata": {
            "needs_background": "light"
          }
        }
      ]
    },
    {
      "cell_type": "markdown",
      "source": [
        "Function for preproccessing the input review and predicting its sentiment.\n",
        "It first strips out the punctuation marks and converts to lowercase. Then each word is tokenized based on the dictionary. "
      ],
      "metadata": {
        "id": "YqtpR-I3lsV8"
      }
    },
    {
      "cell_type": "code",
      "source": [
        "def input_predict(review):\n",
        "    inds = [1]\n",
        "    translation_table = str.maketrans('', '', string.punctuation) \n",
        "    review = str.lower(review.translate(translation_table))\n",
        "    for word in review.split(\" \"):\n",
        "      if word in word_to_index.keys():\n",
        "        inds.append(word_to_index[word])\n",
        "      else:\n",
        "        inds.append(2)\n",
        "    inds_padded = tf.keras.utils.pad_sequences([inds], REVIEW_WORD_COUNT)\n",
        "    pred = model.predict(inds_padded)[0]\n",
        "    print(pred)\n",
        "    if pred > 0.5:\n",
        "      print(\"positive\")\n",
        "    else:\n",
        "      print(\"negative\")"
      ],
      "metadata": {
        "id": "_ErkRjEeGMEC"
      },
      "execution_count": 243,
      "outputs": []
    },
    {
      "cell_type": "code",
      "source": [
        "input_predict(\"Great play, interesting plot, happy ending. All I need to enjoy the movie. Zayebali\")"
      ],
      "metadata": {
        "colab": {
          "base_uri": "https://localhost:8080/"
        },
        "id": "BtYYyiiFGOPn",
        "outputId": "ab4075e8-4349-44b2-dc03-72dbdd6aa860"
      },
      "execution_count": 244,
      "outputs": [
        {
          "output_type": "stream",
          "name": "stdout",
          "text": [
            "1/1 [==============================] - 0s 26ms/step\n",
            "[0.6639759]\n",
            "positive\n"
          ]
        }
      ]
    },
    {
      "cell_type": "markdown",
      "source": [
        "Changing vocabulary size to 3000 to see if it improves the accuracy."
      ],
      "metadata": {
        "id": "ZrQx6H4vmTDK"
      }
    },
    {
      "cell_type": "code",
      "source": [
        "VOCAB_SIZE=3000"
      ],
      "metadata": {
        "id": "sXx1qzPeQ38-"
      },
      "execution_count": 142,
      "outputs": []
    },
    {
      "cell_type": "code",
      "source": [
        "(x_train_3k, y_train_3k),(x_test_3k, y_test_3k) = imdb.load_data(num_words=VOCAB_SIZE)\n",
        "x_train_3k = tf.keras.utils.pad_sequences(x_train_3k, REVIEW_WORD_COUNT)\n",
        "x_test_3k = tf.keras.utils.pad_sequences(x_test_3k, REVIEW_WORD_COUNT)"
      ],
      "metadata": {
        "id": "ZWyRGk4YTb8M"
      },
      "execution_count": 143,
      "outputs": []
    },
    {
      "cell_type": "code",
      "source": [
        "model = tf.keras.Sequential([\n",
        "    tf.keras.layers.Embedding(VOCAB_SIZE, 32, input_length=REVIEW_WORD_COUNT),\n",
        "    tf.keras.layers.LSTM(32),\n",
        "    tf.keras.layers.Dense(1, activation=\"sigmoid\")\n",
        "])"
      ],
      "metadata": {
        "id": "_TdwMI6AAhuD"
      },
      "execution_count": 144,
      "outputs": []
    },
    {
      "cell_type": "code",
      "source": [
        "model.compile(loss='binary_crossentropy',optimizer='adam', metrics=['accuracy']) "
      ],
      "metadata": {
        "id": "HlfgrbYbAiYG"
      },
      "execution_count": 145,
      "outputs": []
    },
    {
      "cell_type": "code",
      "source": [
        "history_3k = model.fit(x_train_3k, y_train_3k, validation_split=0.2, epochs=10, batch_size=32)"
      ],
      "metadata": {
        "colab": {
          "base_uri": "https://localhost:8080/"
        },
        "id": "Xp3q_fotT0nl",
        "outputId": "63d5c059-905c-4a10-b78c-f4158adc530a"
      },
      "execution_count": 146,
      "outputs": [
        {
          "output_type": "stream",
          "name": "stdout",
          "text": [
            "Epoch 1/10\n",
            "625/625 [==============================] - 35s 53ms/step - loss: 0.4294 - accuracy: 0.7981 - val_loss: 0.3665 - val_accuracy: 0.8558\n",
            "Epoch 2/10\n",
            "625/625 [==============================] - 11s 18ms/step - loss: 0.3032 - accuracy: 0.8771 - val_loss: 0.3138 - val_accuracy: 0.8660\n",
            "Epoch 3/10\n",
            "625/625 [==============================] - 10s 17ms/step - loss: 0.2552 - accuracy: 0.8989 - val_loss: 0.3283 - val_accuracy: 0.8662\n",
            "Epoch 4/10\n",
            "625/625 [==============================] - 10s 16ms/step - loss: 0.2415 - accuracy: 0.9050 - val_loss: 0.3309 - val_accuracy: 0.8644\n",
            "Epoch 5/10\n",
            "625/625 [==============================] - 9s 14ms/step - loss: 0.2154 - accuracy: 0.9176 - val_loss: 0.3442 - val_accuracy: 0.8610\n",
            "Epoch 6/10\n",
            "625/625 [==============================] - 9s 14ms/step - loss: 0.1917 - accuracy: 0.9274 - val_loss: 0.3672 - val_accuracy: 0.8598\n",
            "Epoch 7/10\n",
            "625/625 [==============================] - 9s 14ms/step - loss: 0.2245 - accuracy: 0.9078 - val_loss: 0.3442 - val_accuracy: 0.8618\n",
            "Epoch 8/10\n",
            "625/625 [==============================] - 9s 14ms/step - loss: 0.1755 - accuracy: 0.9348 - val_loss: 0.3670 - val_accuracy: 0.8510\n",
            "Epoch 9/10\n",
            "625/625 [==============================] - 9s 15ms/step - loss: 0.1637 - accuracy: 0.9384 - val_loss: 0.3860 - val_accuracy: 0.8626\n",
            "Epoch 10/10\n",
            "625/625 [==============================] - 9s 14ms/step - loss: 0.1412 - accuracy: 0.9467 - val_loss: 0.4092 - val_accuracy: 0.8602\n"
          ]
        }
      ]
    },
    {
      "cell_type": "code",
      "source": [
        "eval = model.evaluate(x_test_3k, y_test_3k)"
      ],
      "metadata": {
        "colab": {
          "base_uri": "https://localhost:8080/"
        },
        "id": "yVTofySuT4TQ",
        "outputId": "0fc0bb78-1f0e-4728-cf10-7c743e2713fb"
      },
      "execution_count": 147,
      "outputs": [
        {
          "output_type": "stream",
          "name": "stdout",
          "text": [
            "782/782 [==============================] - 5s 7ms/step - loss: 0.4011 - accuracy: 0.8616\n"
          ]
        }
      ]
    },
    {
      "cell_type": "code",
      "source": [
        "plot(history_3k)"
      ],
      "metadata": {
        "colab": {
          "base_uri": "https://localhost:8080/",
          "height": 573
        },
        "id": "n2kWwDrBT5g6",
        "outputId": "b689e1b2-aa80-4985-d940-0650f4bed528"
      },
      "execution_count": 148,
      "outputs": [
        {
          "output_type": "display_data",
          "data": {
            "text/plain": [
              "<Figure size 432x288 with 1 Axes>"
            ],
            "image/png": "[encoded data removed]"
          },
          "metadata": {
            "needs_background": "light"
          }
        },
        {
          "output_type": "display_data",
          "data": {
            "text/plain": [
              "<Figure size 432x288 with 1 Axes>"
            ],
            "image/png": "[encoded data removed]"
          },
          "metadata": {
            "needs_background": "light"
          }
        }
      ]
    },
    {
      "cell_type": "markdown",
      "source": [
        "As can be seen above, the test accuracy is approximately the same (0.85 vs 0.86), while the latter model overfits significantly as seen in the graph above."
      ],
      "metadata": {
        "id": "YYg6aUdAmdAL"
      }
    },
    {
      "cell_type": "markdown",
      "source": [
        "Increasing the vocabulary size to 10000 just to confirm the above."
      ],
      "metadata": {
        "id": "073TvECVmoUW"
      }
    },
    {
      "cell_type": "code",
      "source": [
        "VOCAB_SIZE=10000"
      ],
      "metadata": {
        "id": "2UJlMpN2BOE3"
      },
      "execution_count": 149,
      "outputs": []
    },
    {
      "cell_type": "code",
      "source": [
        "(x_train_10k, y_train_10k),(x_test_10k, y_test_10k) = imdb.load_data(num_words=VOCAB_SIZE)\n",
        "x_train_10k = tf.keras.utils.pad_sequences(x_train_10k, REVIEW_WORD_COUNT)\n",
        "x_test_10k = tf.keras.utils.pad_sequences(x_test_10k, REVIEW_WORD_COUNT)"
      ],
      "metadata": {
        "id": "WR7qNkt_BQks"
      },
      "execution_count": 150,
      "outputs": []
    },
    {
      "cell_type": "code",
      "source": [
        "model = tf.keras.Sequential([\n",
        "    tf.keras.layers.Embedding(VOCAB_SIZE, 32, input_length=REVIEW_WORD_COUNT),\n",
        "    tf.keras.layers.LSTM(32),\n",
        "    tf.keras.layers.Dense(1, activation=\"sigmoid\")\n",
        "])"
      ],
      "metadata": {
        "id": "iteO16rBBbRQ"
      },
      "execution_count": 151,
      "outputs": []
    },
    {
      "cell_type": "code",
      "source": [
        "model.compile(loss='binary_crossentropy',optimizer='adam', metrics=['accuracy']) "
      ],
      "metadata": {
        "id": "_CFFgR6oBeAd"
      },
      "execution_count": 152,
      "outputs": []
    },
    {
      "cell_type": "code",
      "source": [
        "history_10k = model.fit(x_train_10k, y_train_10k, validation_split=0.2, epochs=10, batch_size=32)"
      ],
      "metadata": {
        "colab": {
          "base_uri": "https://localhost:8080/"
        },
        "id": "-Eh8BoTWBggR",
        "outputId": "5e6ece6e-8d4f-4acb-ad3a-27b29fed6085"
      },
      "execution_count": 153,
      "outputs": [
        {
          "output_type": "stream",
          "name": "stdout",
          "text": [
            "Epoch 1/10\n",
            "625/625 [==============================] - 43s 65ms/step - loss: 0.4424 - accuracy: 0.7854 - val_loss: 0.3325 - val_accuracy: 0.8610\n",
            "Epoch 2/10\n",
            "625/625 [==============================] - 17s 27ms/step - loss: 0.2554 - accuracy: 0.8992 - val_loss: 0.3171 - val_accuracy: 0.8646\n",
            "Epoch 3/10\n",
            "625/625 [==============================] - 12s 19ms/step - loss: 0.1833 - accuracy: 0.9322 - val_loss: 0.3582 - val_accuracy: 0.8396\n",
            "Epoch 4/10\n",
            "625/625 [==============================] - 10s 16ms/step - loss: 0.1682 - accuracy: 0.9385 - val_loss: 0.3765 - val_accuracy: 0.8580\n",
            "Epoch 5/10\n",
            "625/625 [==============================] - 12s 19ms/step - loss: 0.1295 - accuracy: 0.9527 - val_loss: 0.3990 - val_accuracy: 0.8644\n",
            "Epoch 6/10\n",
            "625/625 [==============================] - 9s 15ms/step - loss: 0.0991 - accuracy: 0.9657 - val_loss: 0.4437 - val_accuracy: 0.8668\n",
            "Epoch 7/10\n",
            "625/625 [==============================] - 9s 15ms/step - loss: 0.0724 - accuracy: 0.9761 - val_loss: 0.4794 - val_accuracy: 0.8574\n",
            "Epoch 8/10\n",
            "625/625 [==============================] - 9s 14ms/step - loss: 0.0764 - accuracy: 0.9747 - val_loss: 0.5109 - val_accuracy: 0.8554\n",
            "Epoch 9/10\n",
            "625/625 [==============================] - 9s 14ms/step - loss: 0.0465 - accuracy: 0.9855 - val_loss: 0.5692 - val_accuracy: 0.8566\n",
            "Epoch 10/10\n",
            "625/625 [==============================] - 9s 14ms/step - loss: 0.0576 - accuracy: 0.9811 - val_loss: 0.6048 - val_accuracy: 0.8512\n"
          ]
        }
      ]
    },
    {
      "cell_type": "code",
      "source": [
        "plot(history_10k)"
      ],
      "metadata": {
        "colab": {
          "base_uri": "https://localhost:8080/",
          "height": 573
        },
        "id": "F_YnSCkZBzyj",
        "outputId": "76b128c8-1d7c-4c99-e27a-03b144882aed"
      },
      "execution_count": 154,
      "outputs": [
        {
          "output_type": "display_data",
          "data": {
            "text/plain": [
              "<Figure size 432x288 with 1 Axes>"
            ],
            "image/png": "[encoded data removed]"
          },
          "metadata": {
            "needs_background": "light"
          }
        },
        {
          "output_type": "display_data",
          "data": {
            "text/plain": [
              "<Figure size 432x288 with 1 Axes>"
            ],
            "image/png": "[encoded data removed]"
          },
          "metadata": {
            "needs_background": "light"
          }
        }
      ]
    },
    {
      "cell_type": "markdown",
      "source": [
        "Again, the model overfits even more significantly."
      ],
      "metadata": {
        "id": "5_Ca-yEtm0T7"
      }
    },
    {
      "cell_type": "markdown",
      "source": [
        "Changing the vocabulary size back to 1000. "
      ],
      "metadata": {
        "id": "A5zIqJpKm4ug"
      }
    },
    {
      "cell_type": "code",
      "source": [
        "VOCAB_SIZE=1000"
      ],
      "metadata": {
        "id": "gSeKD7aEY6ta"
      },
      "execution_count": 158,
      "outputs": []
    },
    {
      "cell_type": "markdown",
      "source": [
        "Now using GRU layer instead of LSTM to see if it improves the model."
      ],
      "metadata": {
        "id": "ho4qbDgem-Y_"
      }
    },
    {
      "cell_type": "code",
      "source": [
        "model = tf.keras.Sequential([\n",
        "    tf.keras.layers.Embedding(VOCAB_SIZE, 32, input_length=REVIEW_WORD_COUNT),\n",
        "    tf.keras.layers.GRU(32),\n",
        "    tf.keras.layers.Dense(1, activation=\"sigmoid\")\n",
        "])"
      ],
      "metadata": {
        "id": "ur__CHJ6B26S"
      },
      "execution_count": 159,
      "outputs": []
    },
    {
      "cell_type": "code",
      "source": [
        "model.compile(loss='binary_crossentropy',optimizer='adam', metrics=['accuracy']) "
      ],
      "metadata": {
        "id": "ln378poXB42X"
      },
      "execution_count": 160,
      "outputs": []
    },
    {
      "cell_type": "code",
      "source": [
        "model.summary()"
      ],
      "metadata": {
        "colab": {
          "base_uri": "https://localhost:8080/"
        },
        "id": "j0FfD1qgJ0Ce",
        "outputId": "7ca61aa7-07cd-4d3b-fa20-dc839116a129"
      },
      "execution_count": 161,
      "outputs": [
        {
          "output_type": "stream",
          "name": "stdout",
          "text": [
            "Model: \"sequential_25\"\n",
            "_________________________________________________________________\n",
            " Layer (type)                Output Shape              Param #   \n",
            "=================================================================\n",
            " embedding_25 (Embedding)    (None, 300, 32)           32000     \n",
            "                                                                 \n",
            " gru_14 (GRU)                (None, 32)                6336      \n",
            "                                                                 \n",
            " dense_26 (Dense)            (None, 1)                 33        \n",
            "                                                                 \n",
            "=================================================================\n",
            "Total params: 38,369\n",
            "Trainable params: 38,369\n",
            "Non-trainable params: 0\n",
            "_________________________________________________________________\n"
          ]
        }
      ]
    },
    {
      "cell_type": "code",
      "source": [
        "history_gru = model.fit(x_train_1k, y_train_1k, validation_split=0.2, epochs=10, batch_size=32)"
      ],
      "metadata": {
        "colab": {
          "base_uri": "https://localhost:8080/"
        },
        "id": "LR7R2zkhCBxZ",
        "outputId": "30578763-506e-4da1-96c9-c4f8eeca1661"
      },
      "execution_count": 162,
      "outputs": [
        {
          "output_type": "stream",
          "name": "stdout",
          "text": [
            "Epoch 1/10\n",
            "625/625 [==============================] - 21s 31ms/step - loss: 0.4782 - accuracy: 0.7574 - val_loss: 0.3981 - val_accuracy: 0.8226\n",
            "Epoch 2/10\n",
            "625/625 [==============================] - 9s 15ms/step - loss: 0.3482 - accuracy: 0.8528 - val_loss: 0.3580 - val_accuracy: 0.8458\n",
            "Epoch 3/10\n",
            "625/625 [==============================] - 8s 13ms/step - loss: 0.3163 - accuracy: 0.8684 - val_loss: 0.3351 - val_accuracy: 0.8576\n",
            "Epoch 4/10\n",
            "625/625 [==============================] - 9s 14ms/step - loss: 0.2981 - accuracy: 0.8774 - val_loss: 0.3505 - val_accuracy: 0.8584\n",
            "Epoch 5/10\n",
            "625/625 [==============================] - 8s 12ms/step - loss: 0.2734 - accuracy: 0.8881 - val_loss: 0.3120 - val_accuracy: 0.8678\n",
            "Epoch 6/10\n",
            "625/625 [==============================] - 8s 13ms/step - loss: 0.2597 - accuracy: 0.8963 - val_loss: 0.3233 - val_accuracy: 0.8710\n",
            "Epoch 7/10\n",
            "625/625 [==============================] - 8s 12ms/step - loss: 0.2461 - accuracy: 0.9024 - val_loss: 0.3162 - val_accuracy: 0.8694\n",
            "Epoch 8/10\n",
            "625/625 [==============================] - 8s 12ms/step - loss: 0.2371 - accuracy: 0.9062 - val_loss: 0.3231 - val_accuracy: 0.8704\n",
            "Epoch 9/10\n",
            "625/625 [==============================] - 8s 13ms/step - loss: 0.2268 - accuracy: 0.9114 - val_loss: 0.3185 - val_accuracy: 0.8666\n",
            "Epoch 10/10\n",
            "625/625 [==============================] - 7s 11ms/step - loss: 0.2199 - accuracy: 0.9124 - val_loss: 0.3258 - val_accuracy: 0.8666\n"
          ]
        }
      ]
    },
    {
      "cell_type": "code",
      "source": [
        "eval = model.evaluate(x_test_1k, y_test_1k)"
      ],
      "metadata": {
        "colab": {
          "base_uri": "https://localhost:8080/"
        },
        "id": "SnmEENfHCOIO",
        "outputId": "343d73db-0bec-478f-d852-d4f887c60676"
      },
      "execution_count": 163,
      "outputs": [
        {
          "output_type": "stream",
          "name": "stdout",
          "text": [
            "782/782 [==============================] - 5s 7ms/step - loss: 0.3200 - accuracy: 0.8700\n"
          ]
        }
      ]
    },
    {
      "cell_type": "code",
      "source": [
        "plot(history_gru)"
      ],
      "metadata": {
        "colab": {
          "base_uri": "https://localhost:8080/",
          "height": 573
        },
        "id": "wt10mQvsCQ6a",
        "outputId": "71bdff19-3f76-4b4b-8584-90f253763e06"
      },
      "execution_count": 164,
      "outputs": [
        {
          "output_type": "display_data",
          "data": {
            "text/plain": [
              "<Figure size 432x288 with 1 Axes>"
            ],
            "image/png": "[encoded data removed]"
          },
          "metadata": {
            "needs_background": "light"
          }
        },
        {
          "output_type": "display_data",
          "data": {
            "text/plain": [
              "<Figure size 432x288 with 1 Axes>"
            ],
            "image/png": "[encoded data removed]"
          },
          "metadata": {
            "needs_background": "light"
          }
        }
      ]
    },
    {
      "cell_type": "markdown",
      "source": [
        "The model with GRU layer slightly improves the accuracy (0.85 --> 0.87)."
      ],
      "metadata": {
        "id": "GkG9QlN2nRCN"
      }
    },
    {
      "cell_type": "markdown",
      "source": [
        "Now checking if making the GRU layer bidirectional improves the accuracy."
      ],
      "metadata": {
        "id": "M5pMFe96nZfO"
      }
    },
    {
      "cell_type": "code",
      "source": [
        "model = tf.keras.Sequential([\n",
        "    tf.keras.layers.Embedding(VOCAB_SIZE, 32, input_length=REVIEW_WORD_COUNT),\n",
        "    tf.keras.layers.Bidirectional(tf.keras.layers.GRU(32)),\n",
        "    tf.keras.layers.Dense(1, activation=\"sigmoid\")\n",
        "])"
      ],
      "metadata": {
        "id": "KI-SDQpWCgdm"
      },
      "execution_count": 165,
      "outputs": []
    },
    {
      "cell_type": "code",
      "source": [
        "model.compile(loss='binary_crossentropy',optimizer='adam', metrics=['accuracy']) "
      ],
      "metadata": {
        "id": "5x2qhu1-ChzM"
      },
      "execution_count": 166,
      "outputs": []
    },
    {
      "cell_type": "code",
      "source": [
        "history_bi_gru = model.fit(x_train_1k, y_train_1k, validation_split=0.2, epochs=10, batch_size=32)"
      ],
      "metadata": {
        "colab": {
          "base_uri": "https://localhost:8080/"
        },
        "id": "V03CHw8xJ-_5",
        "outputId": "b12c4aad-c512-499b-ad5b-7bee9d8a6a91"
      },
      "execution_count": 167,
      "outputs": [
        {
          "output_type": "stream",
          "name": "stdout",
          "text": [
            "Epoch 1/10\n",
            "625/625 [==============================] - 29s 41ms/step - loss: 0.5093 - accuracy: 0.7322 - val_loss: 0.4089 - val_accuracy: 0.8244\n",
            "Epoch 2/10\n",
            "625/625 [==============================] - 14s 22ms/step - loss: 0.3657 - accuracy: 0.8440 - val_loss: 0.3742 - val_accuracy: 0.8440\n",
            "Epoch 3/10\n",
            "625/625 [==============================] - 14s 22ms/step - loss: 0.3363 - accuracy: 0.8591 - val_loss: 0.3536 - val_accuracy: 0.8504\n",
            "Epoch 4/10\n",
            "625/625 [==============================] - 14s 22ms/step - loss: 0.3103 - accuracy: 0.8723 - val_loss: 0.3494 - val_accuracy: 0.8498\n",
            "Epoch 5/10\n",
            "625/625 [==============================] - 13s 21ms/step - loss: 0.2832 - accuracy: 0.8870 - val_loss: 0.3114 - val_accuracy: 0.8722\n",
            "Epoch 6/10\n",
            "625/625 [==============================] - 13s 21ms/step - loss: 0.2669 - accuracy: 0.8907 - val_loss: 0.3199 - val_accuracy: 0.8634\n",
            "Epoch 7/10\n",
            "625/625 [==============================] - 13s 21ms/step - loss: 0.2439 - accuracy: 0.9005 - val_loss: 0.3143 - val_accuracy: 0.8672\n",
            "Epoch 8/10\n",
            "625/625 [==============================] - 13s 20ms/step - loss: 0.2308 - accuracy: 0.9087 - val_loss: 0.3239 - val_accuracy: 0.8684\n",
            "Epoch 9/10\n",
            "625/625 [==============================] - 13s 21ms/step - loss: 0.2174 - accuracy: 0.9147 - val_loss: 0.3256 - val_accuracy: 0.8628\n",
            "Epoch 10/10\n",
            "625/625 [==============================] - 14s 23ms/step - loss: 0.2037 - accuracy: 0.9197 - val_loss: 0.3519 - val_accuracy: 0.8664\n"
          ]
        }
      ]
    },
    {
      "cell_type": "code",
      "source": [
        "plot(history_bi_gru)"
      ],
      "metadata": {
        "colab": {
          "base_uri": "https://localhost:8080/",
          "height": 573
        },
        "id": "6NzBQ3pOLU9A",
        "outputId": "c1085d2b-fa5e-4d6f-810b-5833d23d79e8"
      },
      "execution_count": 168,
      "outputs": [
        {
          "output_type": "display_data",
          "data": {
            "text/plain": [
              "<Figure size 432x288 with 1 Axes>"
            ],
            "image/png": "[encoded data removed]"
          },
          "metadata": {
            "needs_background": "light"
          }
        },
        {
          "output_type": "display_data",
          "data": {
            "text/plain": [
              "<Figure size 432x288 with 1 Axes>"
            ],
            "image/png": "[encoded data removed]"
          },
          "metadata": {
            "needs_background": "light"
          }
        }
      ]
    },
    {
      "cell_type": "markdown",
      "source": [
        "As can be seen from both models, the difference is insignificant. "
      ],
      "metadata": {
        "id": "43mDrrvDnnFn"
      }
    },
    {
      "cell_type": "markdown",
      "source": [
        "Now adding the convolutional layer to see if it improves the model."
      ],
      "metadata": {
        "id": "V55R8PxFn2LG"
      }
    },
    {
      "cell_type": "code",
      "source": [
        "model = tf.keras.Sequential([\n",
        "    tf.keras.layers.Embedding(VOCAB_SIZE, 32, input_length=REVIEW_WORD_COUNT),\n",
        "    tf.keras.layers.Conv1D(32, 5, activation='relu'),\n",
        "    tf.keras.layers.GRU(32),\n",
        "    tf.keras.layers.Dense(1, activation='sigmoid')\n",
        "])"
      ],
      "metadata": {
        "id": "gWd3VQ-TLYlo"
      },
      "execution_count": 169,
      "outputs": []
    },
    {
      "cell_type": "code",
      "source": [
        "model.compile(loss='binary_crossentropy',optimizer='adam', metrics=['accuracy']) "
      ],
      "metadata": {
        "id": "rIJkx3lEMDqF"
      },
      "execution_count": 170,
      "outputs": []
    },
    {
      "cell_type": "code",
      "source": [
        "history = model.fit(x_train_1k, y_train_1k, validation_split=0.2, epochs=10, batch_size=32)"
      ],
      "metadata": {
        "colab": {
          "base_uri": "https://localhost:8080/"
        },
        "id": "mp4wItptMFl0",
        "outputId": "ac0eae02-50b6-41de-f84c-a1f46e140d0d"
      },
      "execution_count": 171,
      "outputs": [
        {
          "output_type": "stream",
          "name": "stdout",
          "text": [
            "Epoch 1/10\n",
            "625/625 [==============================] - 23s 33ms/step - loss: 0.4931 - accuracy: 0.7455 - val_loss: 0.3869 - val_accuracy: 0.8358\n",
            "Epoch 2/10\n",
            "625/625 [==============================] - 10s 16ms/step - loss: 0.3482 - accuracy: 0.8536 - val_loss: 0.3690 - val_accuracy: 0.8386\n",
            "Epoch 3/10\n",
            "625/625 [==============================] - 10s 16ms/step - loss: 0.3099 - accuracy: 0.8719 - val_loss: 0.3072 - val_accuracy: 0.8674\n",
            "Epoch 4/10\n",
            "625/625 [==============================] - 9s 15ms/step - loss: 0.2731 - accuracy: 0.8884 - val_loss: 0.3133 - val_accuracy: 0.8676\n",
            "Epoch 5/10\n",
            "625/625 [==============================] - 9s 14ms/step - loss: 0.2536 - accuracy: 0.8996 - val_loss: 0.3053 - val_accuracy: 0.8730\n",
            "Epoch 6/10\n",
            "625/625 [==============================] - 9s 14ms/step - loss: 0.2297 - accuracy: 0.9097 - val_loss: 0.3422 - val_accuracy: 0.8480\n",
            "Epoch 7/10\n",
            "625/625 [==============================] - 8s 13ms/step - loss: 0.2096 - accuracy: 0.9190 - val_loss: 0.3319 - val_accuracy: 0.8688\n",
            "Epoch 8/10\n",
            "625/625 [==============================] - 9s 14ms/step - loss: 0.1893 - accuracy: 0.9269 - val_loss: 0.3381 - val_accuracy: 0.8664\n",
            "Epoch 9/10\n",
            "625/625 [==============================] - 8s 13ms/step - loss: 0.1658 - accuracy: 0.9403 - val_loss: 0.3540 - val_accuracy: 0.8648\n",
            "Epoch 10/10\n",
            "625/625 [==============================] - 8s 12ms/step - loss: 0.1405 - accuracy: 0.9517 - val_loss: 0.4358 - val_accuracy: 0.8616\n"
          ]
        }
      ]
    },
    {
      "cell_type": "code",
      "source": [
        "plot(history)"
      ],
      "metadata": {
        "colab": {
          "base_uri": "https://localhost:8080/",
          "height": 573
        },
        "id": "fZBfF_6fOTdr",
        "outputId": "3b57f29d-1757-4e29-da0a-c013d05d5290"
      },
      "execution_count": 172,
      "outputs": [
        {
          "output_type": "display_data",
          "data": {
            "text/plain": [
              "<Figure size 432x288 with 1 Axes>"
            ],
            "image/png": "[encoded data removed]"
          },
          "metadata": {
            "needs_background": "light"
          }
        },
        {
          "output_type": "display_data",
          "data": {
            "text/plain": [
              "<Figure size 432x288 with 1 Axes>"
            ],
            "image/png": "[encoded data removed]"
          },
          "metadata": {
            "needs_background": "light"
          }
        }
      ]
    },
    {
      "cell_type": "markdown",
      "source": [
        "As can be seen, the model gives the same accuracy but overfits significantly. "
      ],
      "metadata": {
        "id": "unStgLanoFKH"
      }
    },
    {
      "cell_type": "markdown",
      "source": [
        "Making vocabulary size 10000 to see if it is more suitable for the more complex model with convolutional layer."
      ],
      "metadata": {
        "id": "DQQHHdA1oMR9"
      }
    },
    {
      "cell_type": "code",
      "source": [
        "VOCAB_SIZE=10000"
      ],
      "metadata": {
        "id": "_KUPKebubmbc"
      },
      "execution_count": 173,
      "outputs": []
    },
    {
      "cell_type": "code",
      "source": [
        "model = tf.keras.Sequential([\n",
        "    tf.keras.layers.Embedding(VOCAB_SIZE, 32, input_length=REVIEW_WORD_COUNT),\n",
        "    tf.keras.layers.Conv1D(32, 5, activation='relu'),\n",
        "    tf.keras.layers.GRU(32),\n",
        "    tf.keras.layers.Dense(1, activation='sigmoid')\n",
        "])"
      ],
      "metadata": {
        "id": "ZDroTKc2PTfL"
      },
      "execution_count": 180,
      "outputs": []
    },
    {
      "cell_type": "code",
      "source": [
        "model.compile(loss='binary_crossentropy',optimizer='adam', metrics=['accuracy']) "
      ],
      "metadata": {
        "id": "3etIvuJYPVqd"
      },
      "execution_count": 175,
      "outputs": []
    },
    {
      "cell_type": "code",
      "source": [
        "history = model.fit(x_train_10k, y_train_10k, validation_split=0.2, epochs=10, batch_size=32)"
      ],
      "metadata": {
        "colab": {
          "base_uri": "https://localhost:8080/"
        },
        "id": "ak_6viWUPYMI",
        "outputId": "1baab30e-0405-48ae-8310-bcd1c8676274"
      },
      "execution_count": 176,
      "outputs": [
        {
          "output_type": "stream",
          "name": "stdout",
          "text": [
            "Epoch 1/10\n",
            "625/625 [==============================] - 46s 70ms/step - loss: 0.4646 - accuracy: 0.7606 - val_loss: 0.3310 - val_accuracy: 0.8564\n",
            "Epoch 2/10\n",
            "625/625 [==============================] - 17s 27ms/step - loss: 0.2247 - accuracy: 0.9131 - val_loss: 0.2765 - val_accuracy: 0.8884\n",
            "Epoch 3/10\n",
            "625/625 [==============================] - 13s 20ms/step - loss: 0.1411 - accuracy: 0.9491 - val_loss: 0.3256 - val_accuracy: 0.8642\n",
            "Epoch 4/10\n",
            "625/625 [==============================] - 10s 16ms/step - loss: 0.0852 - accuracy: 0.9712 - val_loss: 0.3770 - val_accuracy: 0.8884\n",
            "Epoch 5/10\n",
            "625/625 [==============================] - 11s 18ms/step - loss: 0.0561 - accuracy: 0.9830 - val_loss: 0.4275 - val_accuracy: 0.8810\n",
            "Epoch 6/10\n",
            "625/625 [==============================] - 10s 17ms/step - loss: 0.0297 - accuracy: 0.9924 - val_loss: 0.4773 - val_accuracy: 0.8778\n",
            "Epoch 7/10\n",
            "625/625 [==============================] - 10s 16ms/step - loss: 0.0252 - accuracy: 0.9930 - val_loss: 0.5030 - val_accuracy: 0.8640\n",
            "Epoch 8/10\n",
            "625/625 [==============================] - 9s 14ms/step - loss: 0.0220 - accuracy: 0.9920 - val_loss: 0.6183 - val_accuracy: 0.8466\n",
            "Epoch 9/10\n",
            "625/625 [==============================] - 9s 14ms/step - loss: 0.0104 - accuracy: 0.9971 - val_loss: 0.6378 - val_accuracy: 0.8596\n",
            "Epoch 10/10\n",
            "625/625 [==============================] - 9s 15ms/step - loss: 0.0104 - accuracy: 0.9965 - val_loss: 0.6134 - val_accuracy: 0.8704\n"
          ]
        }
      ]
    },
    {
      "cell_type": "code",
      "source": [
        "eval = model.evaluate(x_test_10k, y_test_10k)"
      ],
      "metadata": {
        "colab": {
          "base_uri": "https://localhost:8080/"
        },
        "id": "ddeLvFb0cixw",
        "outputId": "e405dc00-ab84-48c7-f969-464c11001454"
      },
      "execution_count": 178,
      "outputs": [
        {
          "output_type": "stream",
          "name": "stdout",
          "text": [
            "782/782 [==============================] - 5s 6ms/step - loss: 0.6756 - accuracy: 0.8579\n"
          ]
        }
      ]
    },
    {
      "cell_type": "code",
      "source": [
        "plot(history)"
      ],
      "metadata": {
        "colab": {
          "base_uri": "https://localhost:8080/",
          "height": 573
        },
        "id": "tdPzRsQqPeQa",
        "outputId": "1821ea8c-05a0-4614-97ca-a8fbb0347acf"
      },
      "execution_count": 181,
      "outputs": [
        {
          "output_type": "display_data",
          "data": {
            "text/plain": [
              "<Figure size 432x288 with 1 Axes>"
            ],
            "image/png": "[encoded data removed]"
          },
          "metadata": {
            "needs_background": "light"
          }
        },
        {
          "output_type": "display_data",
          "data": {
            "text/plain": [
              "<Figure size 432x288 with 1 Axes>"
            ],
            "image/png": "[encoded data removed]"
          },
          "metadata": {
            "needs_background": "light"
          }
        }
      ]
    },
    {
      "cell_type": "markdown",
      "source": [
        "As can be seen above,the model overfits even more while producing the same accuracy. "
      ],
      "metadata": {
        "id": "nQiYQedbodmS"
      }
    },
    {
      "cell_type": "markdown",
      "source": [
        "Making the final adjustments. Going back to the best model with vocabulary size 1000 and GRU layer. Now trying to add Dropout layer to reduce the overfitting."
      ],
      "metadata": {
        "id": "cSyz37zlojs1"
      }
    },
    {
      "cell_type": "code",
      "source": [
        "VOCAB_SIZE=1000"
      ],
      "metadata": {
        "id": "cW_iHQtsc8LD"
      },
      "execution_count": 182,
      "outputs": []
    },
    {
      "cell_type": "code",
      "source": [
        "model = tf.keras.Sequential([\n",
        "    tf.keras.layers.Embedding(VOCAB_SIZE, 32, input_length=REVIEW_WORD_COUNT),\n",
        "    tf.keras.layers.GRU(32),\n",
        "    tf.keras.layers.Dropout(0.5),\n",
        "    tf.keras.layers.Dense(1, activation='sigmoid')\n",
        "])"
      ],
      "metadata": {
        "id": "MlUjhovLc-mh"
      },
      "execution_count": 186,
      "outputs": []
    },
    {
      "cell_type": "code",
      "source": [
        "model.compile(loss='binary_crossentropy',optimizer='adam', metrics=['accuracy']) "
      ],
      "metadata": {
        "id": "hZFguhGkdILy"
      },
      "execution_count": 187,
      "outputs": []
    },
    {
      "cell_type": "code",
      "source": [
        "history = model.fit(x_train_1k, y_train_1k, validation_split=0.2, epochs=10, batch_size=32)"
      ],
      "metadata": {
        "colab": {
          "base_uri": "https://localhost:8080/"
        },
        "id": "O5nUpTDBdJD6",
        "outputId": "6e57403b-65aa-4698-d3cf-eb96bb16d950"
      },
      "execution_count": 188,
      "outputs": [
        {
          "output_type": "stream",
          "name": "stdout",
          "text": [
            "Epoch 1/10\n",
            "625/625 [==============================] - 22s 32ms/step - loss: 0.5052 - accuracy: 0.7377 - val_loss: 0.3824 - val_accuracy: 0.8322\n",
            "Epoch 2/10\n",
            "625/625 [==============================] - 9s 14ms/step - loss: 0.3554 - accuracy: 0.8512 - val_loss: 0.3636 - val_accuracy: 0.8434\n",
            "Epoch 3/10\n",
            "625/625 [==============================] - 10s 16ms/step - loss: 0.3173 - accuracy: 0.8724 - val_loss: 0.3301 - val_accuracy: 0.8686\n",
            "Epoch 4/10\n",
            "625/625 [==============================] - 8s 14ms/step - loss: 0.2918 - accuracy: 0.8814 - val_loss: 0.3055 - val_accuracy: 0.8714\n",
            "Epoch 5/10\n",
            "625/625 [==============================] - 10s 15ms/step - loss: 0.2738 - accuracy: 0.8903 - val_loss: 0.3017 - val_accuracy: 0.8720\n",
            "Epoch 6/10\n",
            "625/625 [==============================] - 7s 12ms/step - loss: 0.2617 - accuracy: 0.8950 - val_loss: 0.3083 - val_accuracy: 0.8752\n",
            "Epoch 7/10\n",
            "625/625 [==============================] - 8s 13ms/step - loss: 0.2478 - accuracy: 0.9010 - val_loss: 0.3032 - val_accuracy: 0.8714\n",
            "Epoch 8/10\n",
            "625/625 [==============================] - 8s 12ms/step - loss: 0.2372 - accuracy: 0.9058 - val_loss: 0.3145 - val_accuracy: 0.8704\n",
            "Epoch 9/10\n",
            "625/625 [==============================] - 8s 12ms/step - loss: 0.2284 - accuracy: 0.9103 - val_loss: 0.4057 - val_accuracy: 0.8526\n",
            "Epoch 10/10\n",
            "625/625 [==============================] - 8s 13ms/step - loss: 0.2198 - accuracy: 0.9120 - val_loss: 0.3279 - val_accuracy: 0.8664\n"
          ]
        }
      ]
    },
    {
      "cell_type": "code",
      "source": [
        "plot(history)"
      ],
      "metadata": {
        "colab": {
          "base_uri": "https://localhost:8080/",
          "height": 573
        },
        "id": "HaFj_9v2dxPZ",
        "outputId": "3eab8b81-90ef-4ca9-b475-3c1d0bc0bc30"
      },
      "execution_count": 189,
      "outputs": [
        {
          "output_type": "display_data",
          "data": {
            "text/plain": [
              "<Figure size 432x288 with 1 Axes>"
            ],
            "image/png": "[encoded data removed]"
          },
          "metadata": {
            "needs_background": "light"
          }
        },
        {
          "output_type": "display_data",
          "data": {
            "text/plain": [
              "<Figure size 432x288 with 1 Axes>"
            ],
            "image/png": "[encoded data removed]"
          },
          "metadata": {
            "needs_background": "light"
          }
        }
      ]
    },
    {
      "cell_type": "markdown",
      "source": [
        "As can be seen above, this doesn't help to fight overfitting. The results are similar to initial model. "
      ],
      "metadata": {
        "id": "OghOE_fzo59k"
      }
    },
    {
      "cell_type": "code",
      "source": [
        "from tensorflow.keras import regularizers"
      ],
      "metadata": {
        "id": "806qx0Rpd6L-"
      },
      "execution_count": 191,
      "outputs": []
    },
    {
      "cell_type": "markdown",
      "source": [
        "Now trying to add the l2 regularizer to reduce overfitting."
      ],
      "metadata": {
        "id": "gPi8tX3spOiS"
      }
    },
    {
      "cell_type": "code",
      "source": [
        "model = tf.keras.Sequential([\n",
        "    tf.keras.layers.Embedding(VOCAB_SIZE, 32, input_length=REVIEW_WORD_COUNT),\n",
        "    tf.keras.layers.GRU(32),\n",
        "    tf.keras.layers.Dropout(0.5),\n",
        "    tf.keras.layers.Dense(1, activation='sigmoid', kernel_regularizer=regularizers.l2(0.01))\n",
        "])"
      ],
      "metadata": {
        "id": "oNjRtNnGd090"
      },
      "execution_count": 192,
      "outputs": []
    },
    {
      "cell_type": "code",
      "source": [
        "model.compile(loss='binary_crossentropy',optimizer='adam', metrics=['accuracy']) "
      ],
      "metadata": {
        "id": "EVt_z3jndu5F"
      },
      "execution_count": 194,
      "outputs": []
    },
    {
      "cell_type": "code",
      "source": [
        "history = model.fit(x_train_1k, y_train_1k, validation_split=0.2, epochs=10, batch_size=32)"
      ],
      "metadata": {
        "colab": {
          "base_uri": "https://localhost:8080/"
        },
        "id": "n9oQzqjEdwtK",
        "outputId": "367b76ad-d858-4870-f890-fcd7dfcbd14e"
      },
      "execution_count": 195,
      "outputs": [
        {
          "output_type": "stream",
          "name": "stdout",
          "text": [
            "Epoch 1/10\n",
            "625/625 [==============================] - 62s 97ms/step - loss: 0.5347 - accuracy: 0.7319 - val_loss: 0.4203 - val_accuracy: 0.8228\n",
            "Epoch 2/10\n",
            "625/625 [==============================] - 9s 15ms/step - loss: 0.3988 - accuracy: 0.8365 - val_loss: 0.3989 - val_accuracy: 0.8362\n",
            "Epoch 3/10\n",
            "625/625 [==============================] - 8s 13ms/step - loss: 0.3643 - accuracy: 0.8563 - val_loss: 0.3662 - val_accuracy: 0.8544\n",
            "Epoch 4/10\n",
            "625/625 [==============================] - 9s 14ms/step - loss: 0.3418 - accuracy: 0.8668 - val_loss: 0.3488 - val_accuracy: 0.8574\n",
            "Epoch 5/10\n",
            "625/625 [==============================] - 8s 13ms/step - loss: 0.3288 - accuracy: 0.8745 - val_loss: 0.3430 - val_accuracy: 0.8600\n",
            "Epoch 6/10\n",
            "625/625 [==============================] - 8s 13ms/step - loss: 0.3141 - accuracy: 0.8809 - val_loss: 0.3320 - val_accuracy: 0.8658\n",
            "Epoch 7/10\n",
            "625/625 [==============================] - 8s 13ms/step - loss: 0.2996 - accuracy: 0.8899 - val_loss: 0.3312 - val_accuracy: 0.8644\n",
            "Epoch 8/10\n",
            "625/625 [==============================] - 8s 13ms/step - loss: 0.2856 - accuracy: 0.8938 - val_loss: 0.3246 - val_accuracy: 0.8704\n",
            "Epoch 9/10\n",
            "625/625 [==============================] - 8s 13ms/step - loss: 0.2740 - accuracy: 0.9007 - val_loss: 0.3242 - val_accuracy: 0.8674\n",
            "Epoch 10/10\n",
            "625/625 [==============================] - 8s 12ms/step - loss: 0.2720 - accuracy: 0.9004 - val_loss: 0.3315 - val_accuracy: 0.8642\n"
          ]
        }
      ]
    },
    {
      "cell_type": "code",
      "source": [
        "eval = model.evaluate(x_test_1k, y_test_1k)"
      ],
      "metadata": {
        "colab": {
          "base_uri": "https://localhost:8080/"
        },
        "id": "P5wQcGBFewFv",
        "outputId": "606eb56d-b2b1-4b68-d629-6cb3da7e8cb7"
      },
      "execution_count": 196,
      "outputs": [
        {
          "output_type": "stream",
          "name": "stdout",
          "text": [
            "782/782 [==============================] - 5s 7ms/step - loss: 0.3254 - accuracy: 0.8672\n"
          ]
        }
      ]
    },
    {
      "cell_type": "code",
      "source": [
        "plot(history)"
      ],
      "metadata": {
        "colab": {
          "base_uri": "https://localhost:8080/",
          "height": 573
        },
        "id": "GVFrWoOde097",
        "outputId": "0e032568-c38f-4311-f7a6-a66805e4569f"
      },
      "execution_count": 197,
      "outputs": [
        {
          "output_type": "display_data",
          "data": {
            "text/plain": [
              "<Figure size 432x288 with 1 Axes>"
            ],
            "image/png": "[encoded data removed]"
          },
          "metadata": {
            "needs_background": "light"
          }
        },
        {
          "output_type": "display_data",
          "data": {
            "text/plain": [
              "<Figure size 432x288 with 1 Axes>"
            ],
            "image/png": "[encoded data removed]"
          },
          "metadata": {
            "needs_background": "light"
          }
        }
      ]
    },
    {
      "cell_type": "markdown",
      "source": [
        "The overfitting was reduced insignificantly compared to initial model. "
      ],
      "metadata": {
        "id": "k-igFENlpVzn"
      }
    },
    {
      "cell_type": "markdown",
      "source": [
        "Seeing how the model performs on the latest reviews from the imdb website."
      ],
      "metadata": {
        "id": "SZQ4ZhO4uV-9"
      }
    },
    {
      "cell_type": "markdown",
      "source": [
        "8/10 review (https://www.imdb.com/review/rw8837635/?ref_=tt_urv), should be positive:"
      ],
      "metadata": {
        "id": "zE_7dZMjuevU"
      }
    },
    {
      "cell_type": "code",
      "source": [
        "positive_review = \"I'm not here to comment on the relationship to the video game this show is adapted from, I don't play games like that and don't know or care anything about them. From a purely cinematic point of view, this show is excellent thru the three episodes I have seen so far. Art direction and set decoration is superb, as is cinematography. Performances range from adequate to damn good. Writing is topnotch, I was not expecting much from a show with this one's premise -- I don't even bother watching any of the 'Walking Dead' shows for that reason -- but the way in which they introduced the storyline, the various backstories, the human consequences and endurance of catastrophe, are all very well constructed and detailed, dialog is appropriately sparse yet nothing important is left out. In particular, S1E3 is one of the most dramatically beautiful episodes of any show I've ever seen, thanks to the lovely guest performances of Nick Offerman and Murray Bartlett, and the poignant voice of the glorious Linda Ronstadt in the soundtrack. That episode alone deserves 10 out of 10 stars. Since it's early yet, I'm reserving judgment on the overall series and being conservative with that rating, (the 8 is really 8.5 rounded down), but I'm definitely looking forward to the rest of the season.\""
      ],
      "metadata": {
        "id": "grmdJDr2psMX"
      },
      "execution_count": 241,
      "outputs": []
    },
    {
      "cell_type": "markdown",
      "source": [
        "4/10 review (https://www.imdb.com/review/rw8855589/?ref_=tt_urv), should be negative:"
      ],
      "metadata": {
        "id": "bsWscT7kui7H"
      }
    },
    {
      "cell_type": "code",
      "source": [
        "negative_review = \"Started off pretty good, spot on to the details of the game, as we as some interesting back story etc. However the last 2 episodes 3 and 4 are boring... Nothing happens, at least nothing worth watching, it's typical content already been done in the walking dead or any other zombie show. Just a lot of talking and a whole lot of nothing going on... He has been in the apocalypse for 20 years and he does not know better not to drive his very well maintained, fully loaded truck into an apocalypse ridden town? That whole thing was super stupid! Oh wow now we have no car or way out of here and a whole town full of armed, paranoid people that want us dead.... Again nothing happens. BORING!\""
      ],
      "metadata": {
        "id": "PESkKhT0py9x"
      },
      "execution_count": 227,
      "outputs": []
    },
    {
      "cell_type": "markdown",
      "source": [
        "7/10 review (https://www.imdb.com/review/rw8858231/?ref_=tt_urv), should be close to neutral:"
      ],
      "metadata": {
        "id": "zMi8_5y7v_Ab"
      }
    },
    {
      "cell_type": "code",
      "source": [
        "neutral_review = \"What can I say, these scores 9 and 10 when people say it's the best show ever, I am sorry but its not, as well as its not the worse show, I would say an 8 is pushing it but I can let it pass. I haven't played the video game but if a series is based on a video game or book I probably think the books and game is better just like the Witcher or Tombraider. Now why do they have to associate a strong woman as an unsffurable one like Ellie and make the Joel a pushover. Example of a likeable strong woman Laura Croft, Ripley and Sarah Connor. Also what is it with episode 3, why they have to include a gay couple just for the sake and they have no relevance to the plot?\""
      ],
      "metadata": {
        "id": "oFL9C5qivc93"
      },
      "execution_count": 247,
      "outputs": []
    },
    {
      "cell_type": "code",
      "source": [
        "input_predict(positive_review)"
      ],
      "metadata": {
        "colab": {
          "base_uri": "https://localhost:8080/"
        },
        "id": "VsOjIgdHz3Cw",
        "outputId": "af7cd83f-64b4-4ea6-a1cd-0fde795f98a0"
      },
      "execution_count": 256,
      "outputs": [
        {
          "output_type": "stream",
          "name": "stdout",
          "text": [
            "1/1 [==============================] - 0s 26ms/step\n",
            "[0.935884]\n",
            "positive\n"
          ]
        }
      ]
    },
    {
      "cell_type": "code",
      "source": [
        "input_predict(negative_review)"
      ],
      "metadata": {
        "colab": {
          "base_uri": "https://localhost:8080/"
        },
        "id": "6UH-cInDz3hy",
        "outputId": "fbbc9b39-e517-4361-a084-2dd9cf37d942"
      },
      "execution_count": 257,
      "outputs": [
        {
          "output_type": "stream",
          "name": "stdout",
          "text": [
            "1/1 [==============================] - 0s 25ms/step\n",
            "[0.02484023]\n",
            "negative\n"
          ]
        }
      ]
    },
    {
      "cell_type": "code",
      "source": [
        "input_predict(neutral_review)"
      ],
      "metadata": {
        "colab": {
          "base_uri": "https://localhost:8080/"
        },
        "id": "zYPogmEYz32e",
        "outputId": "f5d12000-ef88-42db-9c74-36f856f8cd34"
      },
      "execution_count": 258,
      "outputs": [
        {
          "output_type": "stream",
          "name": "stdout",
          "text": [
            "1/1 [==============================] - 0s 25ms/step\n",
            "[0.76564145]\n",
            "positive\n"
          ]
        }
      ]
    }
  ]
}